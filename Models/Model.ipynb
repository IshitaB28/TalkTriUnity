{
 "cells": [
  {
   "cell_type": "markdown",
   "metadata": {},
   "source": [
    "### Importing the Libraries"
   ]
  },
  {
   "cell_type": "code",
   "execution_count": 1,
   "metadata": {},
   "outputs": [
    {
     "name": "stderr",
     "output_type": "stream",
     "text": [
      "2024-01-21 17:18:08.144590: I tensorflow/core/platform/cpu_feature_guard.cc:182] This TensorFlow binary is optimized to use available CPU instructions in performance-critical operations.\n",
      "To enable the following instructions: AVX2 FMA, in other operations, rebuild TensorFlow with the appropriate compiler flags.\n",
      "2024-01-21 17:18:09.039587: W tensorflow/compiler/tf2tensorrt/utils/py_utils.cc:38] TF-TRT Warning: Could not find TensorRT\n"
     ]
    }
   ],
   "source": [
    "import tensorflow as tf\n",
    "from keras.preprocessing.image import ImageDataGenerator\n",
    "import os\n",
    "import scipy\n",
    "os.environ[\"CUDA_VISIBLE_DEVICES\"] = \"1\""
   ]
  },
  {
   "cell_type": "code",
   "execution_count": 2,
   "metadata": {},
   "outputs": [
    {
     "data": {
      "text/plain": [
       "'2.13.1'"
      ]
     },
     "execution_count": 2,
     "metadata": {},
     "output_type": "execute_result"
    }
   ],
   "source": [
    "tf.__version__ "
   ]
  },
  {
   "cell_type": "markdown",
   "metadata": {},
   "source": [
    "### Part 1 - Data Preprocessing"
   ]
  },
  {
   "cell_type": "markdown",
   "metadata": {},
   "source": [
    "#### Generating images for the Training set"
   ]
  },
  {
   "cell_type": "code",
   "execution_count": 3,
   "metadata": {},
   "outputs": [],
   "source": [
    "train_datagen = ImageDataGenerator(rescale = 1./255,\n",
    "                                   shear_range = 0.2,\n",
    "                                   zoom_range = 0.2,\n",
    "                                   horizontal_flip = True)"
   ]
  },
  {
   "cell_type": "markdown",
   "metadata": {},
   "source": [
    "#### Generating images for the Test set"
   ]
  },
  {
   "cell_type": "code",
   "execution_count": 4,
   "metadata": {},
   "outputs": [],
   "source": [
    "test_datagen = ImageDataGenerator(rescale = 1./255)"
   ]
  },
  {
   "cell_type": "markdown",
   "metadata": {},
   "source": [
    "### Creating the Training set"
   ]
  },
  {
   "cell_type": "code",
   "execution_count": 5,
   "metadata": {},
   "outputs": [
    {
     "name": "stdout",
     "output_type": "stream",
     "text": [
      "Found 12845 images belonging to 27 classes.\n"
     ]
    }
   ],
   "source": [
    "training_set = train_datagen.flow_from_directory('/home/ishita-wicon/Hackathon/Sign-Language-To-Text-Conversion/dataSet/trainingData',                                \n",
    "                                                 target_size = (128, 128),\n",
    "                                                 batch_size = 10,\n",
    "                                                 color_mode = 'grayscale',                                \n",
    "                                                 class_mode = 'categorical')"
   ]
  },
  {
   "cell_type": "code",
   "execution_count": 6,
   "metadata": {},
   "outputs": [
    {
     "name": "stdout",
     "output_type": "stream",
     "text": [
      "Found 4268 images belonging to 27 classes.\n"
     ]
    }
   ],
   "source": [
    "test_set = test_datagen.flow_from_directory('/home/ishita-wicon/Hackathon/Sign-Language-To-Text-Conversion/dataSet/testingData',\n",
    "                                            target_size = (128, 128),                                  \n",
    "                                            batch_size = 10,        \n",
    "                                            color_mode = 'grayscale',\n",
    "                                            class_mode = 'categorical')"
   ]
  },
  {
   "cell_type": "markdown",
   "metadata": {},
   "source": [
    "### Part 2 - Building the CNN"
   ]
  },
  {
   "cell_type": "markdown",
   "metadata": {},
   "source": [
    "#### Initializing the CNN"
   ]
  },
  {
   "cell_type": "code",
   "execution_count": 7,
   "metadata": {},
   "outputs": [
    {
     "name": "stderr",
     "output_type": "stream",
     "text": [
      "2024-01-21 17:18:12.903971: E tensorflow/compiler/xla/stream_executor/cuda/cuda_driver.cc:268] failed call to cuInit: CUDA_ERROR_NO_DEVICE: no CUDA-capable device is detected\n",
      "2024-01-21 17:18:12.904014: I tensorflow/compiler/xla/stream_executor/cuda/cuda_diagnostics.cc:168] retrieving CUDA diagnostic information for host: ishitawicon-B450M-DS3H-V2\n",
      "2024-01-21 17:18:12.904020: I tensorflow/compiler/xla/stream_executor/cuda/cuda_diagnostics.cc:175] hostname: ishitawicon-B450M-DS3H-V2\n",
      "2024-01-21 17:18:12.904124: I tensorflow/compiler/xla/stream_executor/cuda/cuda_diagnostics.cc:199] libcuda reported version is: 525.125.6\n",
      "2024-01-21 17:18:12.904141: I tensorflow/compiler/xla/stream_executor/cuda/cuda_diagnostics.cc:203] kernel reported version is: 525.125.6\n",
      "2024-01-21 17:18:12.904145: I tensorflow/compiler/xla/stream_executor/cuda/cuda_diagnostics.cc:309] kernel version seems to match DSO: 525.125.6\n"
     ]
    }
   ],
   "source": [
    "classifier = tf.keras.models.Sequential()"
   ]
  },
  {
   "cell_type": "markdown",
   "metadata": {},
   "source": [
    "#### Step 1 - Convolution"
   ]
  },
  {
   "cell_type": "code",
   "execution_count": 8,
   "metadata": {},
   "outputs": [],
   "source": [
    "classifier.add(tf.keras.layers.Conv2D(filters=32,\n",
    "                                     kernel_size=3, \n",
    "                                     padding=\"same\", \n",
    "                                     activation=\"relu\", \n",
    "                                     input_shape=[128, 128, 1]))"
   ]
  },
  {
   "cell_type": "markdown",
   "metadata": {},
   "source": [
    "#### Step 2 - Pooling"
   ]
  },
  {
   "cell_type": "code",
   "execution_count": 9,
   "metadata": {},
   "outputs": [],
   "source": [
    "classifier.add(tf.keras.layers.MaxPool2D(pool_size=2, \n",
    "                                         strides=2, \n",
    "                                         padding='valid'))"
   ]
  },
  {
   "cell_type": "markdown",
   "metadata": {},
   "source": [
    "#### Adding a second convolutional layer"
   ]
  },
  {
   "cell_type": "code",
   "execution_count": 10,
   "metadata": {},
   "outputs": [],
   "source": [
    "classifier.add(tf.keras.layers.Conv2D(filters=32, \n",
    "                                      kernel_size=3, \n",
    "                                      padding=\"same\", \n",
    "                                      activation=\"relu\"))\n",
    "\n",
    "classifier.add(tf.keras.layers.MaxPool2D(pool_size=2, \n",
    "                                         strides=2, \n",
    "                                         padding='valid'))"
   ]
  },
  {
   "cell_type": "markdown",
   "metadata": {},
   "source": [
    "#### Step 3 - Flattening"
   ]
  },
  {
   "cell_type": "code",
   "execution_count": 11,
   "metadata": {},
   "outputs": [],
   "source": [
    "classifier.add(tf.keras.layers.Flatten())"
   ]
  },
  {
   "cell_type": "markdown",
   "metadata": {},
   "source": [
    "#### Step 4 - Full Connection"
   ]
  },
  {
   "cell_type": "code",
   "execution_count": 12,
   "metadata": {},
   "outputs": [],
   "source": [
    "classifier.add(tf.keras.layers.Dense(units=128, \n",
    "                                     activation='relu'))\n",
    "classifier.add(tf.keras.layers.Dropout(0.40))\n",
    "classifier.add(tf.keras.layers.Dense(units=96, activation='relu'))\n",
    "classifier.add(tf.keras.layers.Dropout(0.40))\n",
    "classifier.add(tf.keras.layers.Dense(units=64, activation='relu'))\n",
    "classifier.add(tf.keras.layers.Dense(units=27, activation='softmax')) # softmax for more than 2"
   ]
  },
  {
   "cell_type": "markdown",
   "metadata": {},
   "source": [
    "### Part 3 - Training the CNN"
   ]
  },
  {
   "cell_type": "markdown",
   "metadata": {},
   "source": [
    "#### Compiling the CNN"
   ]
  },
  {
   "cell_type": "code",
   "execution_count": 13,
   "metadata": {},
   "outputs": [],
   "source": [
    "classifier.compile(optimizer = 'adam', \n",
    "                   loss = 'categorical_crossentropy', \n",
    "                   metrics = ['accuracy'])"
   ]
  },
  {
   "cell_type": "markdown",
   "metadata": {},
   "source": [
    "#### Training the CNN on the Training set and evaluating it on the Test set"
   ]
  },
  {
   "cell_type": "code",
   "execution_count": 14,
   "metadata": {},
   "outputs": [
    {
     "name": "stdout",
     "output_type": "stream",
     "text": [
      "Model: \"sequential\"\n",
      "_________________________________________________________________\n",
      " Layer (type)                Output Shape              Param #   \n",
      "=================================================================\n",
      " conv2d (Conv2D)             (None, 128, 128, 32)      320       \n",
      "                                                                 \n",
      " max_pooling2d (MaxPooling2  (None, 64, 64, 32)        0         \n",
      " D)                                                              \n",
      "                                                                 \n",
      " conv2d_1 (Conv2D)           (None, 64, 64, 32)        9248      \n",
      "                                                                 \n",
      " max_pooling2d_1 (MaxPoolin  (None, 32, 32, 32)        0         \n",
      " g2D)                                                            \n",
      "                                                                 \n",
      " flatten (Flatten)           (None, 32768)             0         \n",
      "                                                                 \n",
      " dense (Dense)               (None, 128)               4194432   \n",
      "                                                                 \n",
      " dropout (Dropout)           (None, 128)               0         \n",
      "                                                                 \n",
      " dense_1 (Dense)             (None, 96)                12384     \n",
      "                                                                 \n",
      " dropout_1 (Dropout)         (None, 96)                0         \n",
      "                                                                 \n",
      " dense_2 (Dense)             (None, 64)                6208      \n",
      "                                                                 \n",
      " dense_3 (Dense)             (None, 27)                1755      \n",
      "                                                                 \n",
      "=================================================================\n",
      "Total params: 4224347 (16.11 MB)\n",
      "Trainable params: 4224347 (16.11 MB)\n",
      "Non-trainable params: 0 (0.00 Byte)\n",
      "_________________________________________________________________\n"
     ]
    }
   ],
   "source": [
    "classifier.summary()"
   ]
  },
  {
   "cell_type": "code",
   "execution_count": 15,
   "metadata": {},
   "outputs": [
    {
     "name": "stdout",
     "output_type": "stream",
     "text": [
      "Epoch 1/50\n"
     ]
    },
    {
     "name": "stdout",
     "output_type": "stream",
     "text": [
      "1285/1285 [==============================] - 137s 106ms/step - loss: 2.1474 - accuracy: 0.3232 - val_loss: 0.5605 - val_accuracy: 0.8179\n",
      "Epoch 2/50\n",
      "1285/1285 [==============================] - 135s 105ms/step - loss: 1.0059 - accuracy: 0.6479 - val_loss: 0.1882 - val_accuracy: 0.9613\n",
      "Epoch 3/50\n",
      "1285/1285 [==============================] - 134s 105ms/step - loss: 0.6842 - accuracy: 0.7680 - val_loss: 0.1176 - val_accuracy: 0.9541\n",
      "Epoch 4/50\n",
      "1285/1285 [==============================] - 134s 104ms/step - loss: 0.5555 - accuracy: 0.8135 - val_loss: 0.0546 - val_accuracy: 0.9850\n",
      "Epoch 5/50\n",
      "1285/1285 [==============================] - 134s 105ms/step - loss: 0.4664 - accuracy: 0.8425 - val_loss: 0.0352 - val_accuracy: 0.9897\n",
      "Epoch 6/50\n",
      "1285/1285 [==============================] - 134s 105ms/step - loss: 0.3952 - accuracy: 0.8707 - val_loss: 0.0232 - val_accuracy: 0.9960\n",
      "Epoch 7/50\n",
      "1285/1285 [==============================] - 135s 105ms/step - loss: 0.3454 - accuracy: 0.8859 - val_loss: 0.0218 - val_accuracy: 0.9946\n",
      "Epoch 8/50\n",
      "1285/1285 [==============================] - 135s 105ms/step - loss: 0.3046 - accuracy: 0.9000 - val_loss: 0.0159 - val_accuracy: 0.9965\n",
      "Epoch 9/50\n",
      "1285/1285 [==============================] - 134s 104ms/step - loss: 0.2923 - accuracy: 0.9057 - val_loss: 0.0124 - val_accuracy: 0.9970\n",
      "Epoch 10/50\n",
      "1285/1285 [==============================] - 135s 105ms/step - loss: 0.2585 - accuracy: 0.9184 - val_loss: 0.0148 - val_accuracy: 0.9965\n",
      "Epoch 11/50\n",
      "1285/1285 [==============================] - 135s 105ms/step - loss: 0.2393 - accuracy: 0.9236 - val_loss: 0.0090 - val_accuracy: 0.9979\n",
      "Epoch 12/50\n",
      "1285/1285 [==============================] - 134s 105ms/step - loss: 0.2352 - accuracy: 0.9252 - val_loss: 0.0093 - val_accuracy: 0.9981\n",
      "Epoch 13/50\n",
      "1285/1285 [==============================] - 135s 105ms/step - loss: 0.1969 - accuracy: 0.9391 - val_loss: 0.0100 - val_accuracy: 0.9970\n",
      "Epoch 14/50\n",
      "1285/1285 [==============================] - 135s 105ms/step - loss: 0.1969 - accuracy: 0.9378 - val_loss: 0.0099 - val_accuracy: 0.9979\n",
      "Epoch 15/50\n",
      "1285/1285 [==============================] - 135s 105ms/step - loss: 0.1833 - accuracy: 0.9425 - val_loss: 0.0110 - val_accuracy: 0.9977\n",
      "Epoch 16/50\n",
      "1285/1285 [==============================] - 135s 105ms/step - loss: 0.1794 - accuracy: 0.9419 - val_loss: 0.0114 - val_accuracy: 0.9960\n",
      "Epoch 17/50\n",
      "1285/1285 [==============================] - 135s 105ms/step - loss: 0.1604 - accuracy: 0.9509 - val_loss: 0.0051 - val_accuracy: 0.9984\n",
      "Epoch 18/50\n",
      "1285/1285 [==============================] - 135s 105ms/step - loss: 0.1633 - accuracy: 0.9489 - val_loss: 0.0067 - val_accuracy: 0.9984\n",
      "Epoch 19/50\n",
      "1285/1285 [==============================] - 135s 105ms/step - loss: 0.1484 - accuracy: 0.9547 - val_loss: 0.0027 - val_accuracy: 0.9991\n",
      "Epoch 20/50\n",
      "1285/1285 [==============================] - 136s 105ms/step - loss: 0.1455 - accuracy: 0.9552 - val_loss: 0.0071 - val_accuracy: 0.9977\n",
      "Epoch 21/50\n",
      "1285/1285 [==============================] - 135s 105ms/step - loss: 0.1390 - accuracy: 0.9563 - val_loss: 0.0132 - val_accuracy: 0.9967\n",
      "Epoch 22/50\n",
      "1285/1285 [==============================] - 135s 105ms/step - loss: 0.1335 - accuracy: 0.9583 - val_loss: 0.0026 - val_accuracy: 0.9991\n",
      "Epoch 23/50\n",
      "1285/1285 [==============================] - 135s 105ms/step - loss: 0.1246 - accuracy: 0.9617 - val_loss: 0.0059 - val_accuracy: 0.9977\n",
      "Epoch 24/50\n",
      "1285/1285 [==============================] - 135s 105ms/step - loss: 0.1238 - accuracy: 0.9622 - val_loss: 0.0058 - val_accuracy: 0.9979\n",
      "Epoch 25/50\n",
      "1285/1285 [==============================] - 135s 105ms/step - loss: 0.1188 - accuracy: 0.9624 - val_loss: 0.0060 - val_accuracy: 0.9984\n",
      "Epoch 26/50\n",
      "1285/1285 [==============================] - 135s 105ms/step - loss: 0.1142 - accuracy: 0.9632 - val_loss: 0.0022 - val_accuracy: 0.9993\n",
      "Epoch 27/50\n",
      "1285/1285 [==============================] - 135s 105ms/step - loss: 0.1126 - accuracy: 0.9669 - val_loss: 0.0049 - val_accuracy: 0.9981\n",
      "Epoch 28/50\n",
      "1285/1285 [==============================] - 135s 105ms/step - loss: 0.1111 - accuracy: 0.9671 - val_loss: 0.0036 - val_accuracy: 0.9988\n",
      "Epoch 29/50\n",
      "1285/1285 [==============================] - 135s 105ms/step - loss: 0.1011 - accuracy: 0.9686 - val_loss: 0.0246 - val_accuracy: 0.9927\n",
      "Epoch 30/50\n",
      "1285/1285 [==============================] - 135s 105ms/step - loss: 0.1048 - accuracy: 0.9675 - val_loss: 0.0029 - val_accuracy: 0.9991\n",
      "Epoch 31/50\n",
      "1285/1285 [==============================] - 135s 105ms/step - loss: 0.0956 - accuracy: 0.9719 - val_loss: 0.0066 - val_accuracy: 0.9986\n",
      "Epoch 32/50\n",
      "1285/1285 [==============================] - 135s 105ms/step - loss: 0.0976 - accuracy: 0.9704 - val_loss: 0.0019 - val_accuracy: 0.9993\n",
      "Epoch 33/50\n",
      "1285/1285 [==============================] - 134s 105ms/step - loss: 0.0924 - accuracy: 0.9727 - val_loss: 0.0034 - val_accuracy: 0.9986\n",
      "Epoch 34/50\n",
      "1285/1285 [==============================] - 134s 105ms/step - loss: 0.0900 - accuracy: 0.9745 - val_loss: 0.0049 - val_accuracy: 0.9986\n",
      "Epoch 35/50\n",
      "1285/1285 [==============================] - 134s 105ms/step - loss: 0.0871 - accuracy: 0.9734 - val_loss: 0.0019 - val_accuracy: 0.9991\n",
      "Epoch 36/50\n",
      "1285/1285 [==============================] - 135s 105ms/step - loss: 0.0902 - accuracy: 0.9738 - val_loss: 0.0025 - val_accuracy: 0.9993\n",
      "Epoch 37/50\n",
      "1285/1285 [==============================] - 134s 104ms/step - loss: 0.0878 - accuracy: 0.9752 - val_loss: 0.0020 - val_accuracy: 0.9993\n",
      "Epoch 38/50\n",
      "1285/1285 [==============================] - 135s 105ms/step - loss: 0.0833 - accuracy: 0.9754 - val_loss: 0.0027 - val_accuracy: 0.9995\n",
      "Epoch 39/50\n",
      "1285/1285 [==============================] - 134s 105ms/step - loss: 0.0811 - accuracy: 0.9757 - val_loss: 0.0014 - val_accuracy: 0.9998\n",
      "Epoch 40/50\n",
      "1285/1285 [==============================] - 134s 105ms/step - loss: 0.0866 - accuracy: 0.9727 - val_loss: 0.0049 - val_accuracy: 0.9986\n",
      "Epoch 41/50\n",
      "1285/1285 [==============================] - 135s 105ms/step - loss: 0.0768 - accuracy: 0.9775 - val_loss: 0.0024 - val_accuracy: 0.9991\n",
      "Epoch 42/50\n",
      "1285/1285 [==============================] - 135s 105ms/step - loss: 0.0793 - accuracy: 0.9759 - val_loss: 0.0010 - val_accuracy: 0.9998\n",
      "Epoch 43/50\n",
      "1285/1285 [==============================] - 135s 105ms/step - loss: 0.0742 - accuracy: 0.9771 - val_loss: 6.6974e-04 - val_accuracy: 0.9995\n",
      "Epoch 44/50\n",
      "1285/1285 [==============================] - 135s 105ms/step - loss: 0.0776 - accuracy: 0.9773 - val_loss: 0.0046 - val_accuracy: 0.9984\n",
      "Epoch 45/50\n",
      "1285/1285 [==============================] - 134s 105ms/step - loss: 0.0660 - accuracy: 0.9796 - val_loss: 6.3551e-04 - val_accuracy: 0.9998\n",
      "Epoch 46/50\n",
      "1285/1285 [==============================] - 135s 105ms/step - loss: 0.0715 - accuracy: 0.9787 - val_loss: 0.0027 - val_accuracy: 0.9993\n",
      "Epoch 47/50\n",
      "1285/1285 [==============================] - 135s 105ms/step - loss: 0.0785 - accuracy: 0.9777 - val_loss: 0.0049 - val_accuracy: 0.9981\n",
      "Epoch 48/50\n",
      "1285/1285 [==============================] - 135s 105ms/step - loss: 0.0698 - accuracy: 0.9792 - val_loss: 8.9660e-04 - val_accuracy: 0.9998\n",
      "Epoch 49/50\n",
      "1285/1285 [==============================] - 135s 105ms/step - loss: 0.0654 - accuracy: 0.9795 - val_loss: 0.0076 - val_accuracy: 0.9974\n",
      "Epoch 50/50\n",
      "1285/1285 [==============================] - 134s 105ms/step - loss: 0.0725 - accuracy: 0.9798 - val_loss: 0.0024 - val_accuracy: 0.9995\n"
     ]
    },
    {
     "data": {
      "text/plain": [
       "<keras.src.callbacks.History at 0x7fd7a9a0dfd0>"
      ]
     },
     "execution_count": 15,
     "metadata": {},
     "output_type": "execute_result"
    }
   ],
   "source": [
    "classifier.fit(training_set,\n",
    "                  epochs = 50,\n",
    "                  validation_data = test_set)"
   ]
  },
  {
   "cell_type": "code",
   "execution_count": 16,
   "metadata": {},
   "outputs": [
    {
     "name": "stdout",
     "output_type": "stream",
     "text": [
      "Model Saved\n",
      "Weights saved\n"
     ]
    }
   ],
   "source": [
    "model_json = classifier.to_json()\n",
    "with open(\"model_new.json\", \"w\") as json_file:\n",
    "    json_file.write(model_json)\n",
    "print('Model Saved')\n",
    "classifier.save_weights('model_new.h5')\n",
    "print('Weights saved')"
   ]
  },
  {
   "cell_type": "code",
   "execution_count": null,
   "metadata": {},
   "outputs": [],
   "source": []
  },
  {
   "cell_type": "code",
   "execution_count": null,
   "metadata": {},
   "outputs": [],
   "source": []
  }
 ],
 "metadata": {
  "kernelspec": {
   "display_name": "Python 3",
   "language": "python",
   "name": "python3"
  },
  "language_info": {
   "codemirror_mode": {
    "name": "ipython",
    "version": 3
   },
   "file_extension": ".py",
   "mimetype": "text/x-python",
   "name": "python",
   "nbconvert_exporter": "python",
   "pygments_lexer": "ipython3",
   "version": "3.8.10"
  }
 },
 "nbformat": 4,
 "nbformat_minor": 2
}
